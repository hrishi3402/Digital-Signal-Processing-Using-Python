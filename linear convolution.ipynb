{
 "cells": [
  {
   "cell_type": "markdown",
   "id": "9a3f7293",
   "metadata": {},
   "source": [
    "# DSP Lab 2 - 111907019 Hrishikesh Kembhavi"
   ]
  },
  {
   "cell_type": "code",
   "execution_count": 1,
   "id": "94a42158",
   "metadata": {},
   "outputs": [],
   "source": [
    "import matplotlib.pyplot as plt"
   ]
  },
  {
   "cell_type": "code",
   "execution_count": 2,
   "id": "951eb490",
   "metadata": {},
   "outputs": [],
   "source": [
    "import numpy as np"
   ]
  },
  {
   "cell_type": "code",
   "execution_count": 3,
   "id": "bde1bac9",
   "metadata": {},
   "outputs": [],
   "source": [
    "def conv(x,y):\n",
    "    w =[]\n",
    "\n",
    "\n",
    "    for j in range(len(x)+len(y)-1):\n",
    "        k=0\n",
    "        for i in range(len(x)):\n",
    "            if(j-i)>=0 and (j-i)<len(y):\n",
    "                k = k + x[i]*y[j-i]\n",
    "        w.append(k)\n",
    "    return w\n",
    "        \n",
    "        \n"
   ]
  },
  {
   "cell_type": "code",
   "execution_count": 4,
   "id": "b41e8541",
   "metadata": {},
   "outputs": [
    {
     "name": "stdout",
     "output_type": "stream",
     "text": [
      "4 8 1 3\n"
     ]
    },
    {
     "data": {
      "text/plain": [
       "<StemContainer object of 3 artists>"
      ]
     },
     "execution_count": 4,
     "metadata": {},
     "output_type": "execute_result"
    },
    {
     "data": {
      "image/png": "[encoded data removed]",
      "text/plain": [
       "<Figure size 432x288 with 1 Axes>"
      ]
     },
     "metadata": {
      "needs_background": "light"
     },
     "output_type": "display_data"
    }
   ],
   "source": [
    "x = list(map(int,input().split()))\n",
    "plt.stem(list(range(len(x))),x)"
   ]
  },
  {
   "cell_type": "code",
   "execution_count": 5,
   "id": "d0eeefd5",
   "metadata": {},
   "outputs": [
    {
     "name": "stdout",
     "output_type": "stream",
     "text": [
      "5 6 2\n"
     ]
    },
    {
     "data": {
      "text/plain": [
       "<StemContainer object of 3 artists>"
      ]
     },
     "execution_count": 5,
     "metadata": {},
     "output_type": "execute_result"
    },
    {
     "data": {
      "image/png": "[encoded data removed]",
      "text/plain": [
       "<Figure size 432x288 with 1 Axes>"
      ]
     },
     "metadata": {
      "needs_background": "light"
     },
     "output_type": "display_data"
    }
   ],
   "source": [
    "y = list(map(int,input().split()))\n",
    "plt.stem(list(range(len(y))),y)"
   ]
  },
  {
   "cell_type": "code",
   "execution_count": 6,
   "id": "755392fc",
   "metadata": {},
   "outputs": [
    {
     "data": {
      "text/plain": [
       "[20, 64, 61, 37, 20, 6]"
      ]
     },
     "execution_count": 6,
     "metadata": {},
     "output_type": "execute_result"
    }
   ],
   "source": [
    "result = conv(x,y)\n",
    "result"
   ]
  },
  {
   "cell_type": "code",
   "execution_count": 7,
   "id": "981d1c98",
   "metadata": {},
   "outputs": [
    {
     "data": {
      "text/plain": [
       "<StemContainer object of 3 artists>"
      ]
     },
     "execution_count": 7,
     "metadata": {},
     "output_type": "execute_result"
    },
    {
     "data": {
      "image/png": "[encoded data removed]",
      "text/plain": [
       "<Figure size 432x288 with 1 Axes>"
      ]
     },
     "metadata": {
      "needs_background": "light"
     },
     "output_type": "display_data"
    }
   ],
   "source": [
    "plt.stem(list(range(len(result))),result)"
   ]
  },
  {
   "cell_type": "code",
   "execution_count": null,
   "id": "5f487135",
   "metadata": {},
   "outputs": [],
   "source": []
  }
 ],
 "metadata": {
  "kernelspec": {
   "display_name": "Python 3",
   "language": "python",
   "name": "python3"
  },
  "language_info": {
   "codemirror_mode": {
    "name": "ipython",
    "version": 3
   },
   "file_extension": ".py",
   "mimetype": "text/x-python",
   "name": "python",
   "nbconvert_exporter": "python",
   "pygments_lexer": "ipython3",
   "version": "3.8.8"
  }
 },
 "nbformat": 4,
 "nbformat_minor": 5
}
